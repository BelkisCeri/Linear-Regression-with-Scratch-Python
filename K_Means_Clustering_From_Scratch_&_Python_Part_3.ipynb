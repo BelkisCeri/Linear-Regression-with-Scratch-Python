{
  "nbformat": 4,
  "nbformat_minor": 0,
  "metadata": {
    "colab": {
      "name": "K-Means Clustering From Scratch & Python-Part-3",
      "provenance": [],
      "collapsed_sections": [],
      "authorship_tag": "ABX9TyOWtsfifOFJI2uD3gMhZx5l",
      "include_colab_link": true
    },
    "kernelspec": {
      "name": "python3",
      "display_name": "Python 3"
    },
    "language_info": {
      "name": "python"
    }
  },
  "cells": [
    {
      "cell_type": "markdown",
      "metadata": {
        "id": "view-in-github",
        "colab_type": "text"
      },
      "source": [
        "<a href=\"https://colab.research.google.com/github/BelkisCeri/Linear-Regression-with-Scratch-Python/blob/main/K_Means_Clustering_From_Scratch_%26_Python_Part_3.ipynb\" target=\"_parent\"><img src=\"https://colab.research.google.com/assets/colab-badge.svg\" alt=\"Open In Colab\"/></a>"
      ]
    },
    {
      "cell_type": "code",
      "execution_count": null,
      "metadata": {
        "id": "LFseXZEXZz8o"
      },
      "outputs": [],
      "source": [
        "\n",
        "'''\n",
        "Kmeans  Clustering --> unsupervised model use a metric to deremine in which clusrer a data points belongs as a \n",
        "metric, we are going to use euclidean distance \n",
        "\n",
        "d1(x11, x12), d2(x21, x22)\n",
        "distance = sqrt(x11- x21)^2 + (x12- x22)^2\n",
        "\n",
        "I will measure the distance between each and every dare point and the center of the clusters\n",
        "\n",
        "Do you know how many clusters you will have?\n",
        "STEP 1. Let us pick a number for clusters ; k. (we call them k)\n",
        "Pick a random points from your 2-D system as your initial centers of  clusters.\n",
        "\n",
        "STEP 2.We are going to assign data points to these random cluster centers vased on the  data points.\n",
        "STEP 3.Pick the cluster with the minimum distance between a data pioints the cluster\n",
        "\n",
        "STEP 4. We will calculate the cluster center based on the sata points we assigned to that  cluster \n",
        "Now I have new cluster centers\n",
        "\n",
        "Go to STEP 3.\n",
        "Go between STEP 3. and STEP 4. for a number of Iterations\n",
        "'''"
      ]
    },
    {
      "cell_type": "code",
      "source": [
        "class KMeans:\n",
        "  def __init__(self, k=10, n_iter=50, random_state = 1):       #  iit this contruct a function, and parameters are.\n",
        "    self.k=k\n",
        "    seld.n_iter=n_iter\n",
        "    self.random_state=random_state\n",
        "  def finddist(self, d1, d2):           # will find the distance, d1 is  d2 is a list of  centers\n",
        "      for i in range(d2.shape[0]):                  # we rote a for loop to iterate the ..)\n",
        "          temp=d1-d2[i]\n",
        "          dist=np.sqrt(np.sum(temp*temp, axis=1)).tolist()\n",
        "          distance.append(dist)\n",
        "      return np.vstack(distances).T\n",
        "  def fit(self,X):                # need to fit the mdoel\n",
        "      k=self.k\n",
        "      n_iter=self.n_iter\n",
        "      idx = np.random.choice(len(X),k, replace=False)\n",
        "      centers = X[idx,:]        # X[idx,:] is center of the clusters\n",
        "\n",
        "      distance = finddist(X, centers)\n",
        "      points = np.array([np.argmin(i) for i in distances])\n",
        "\n",
        "      for _ in range (n_iter):\n",
        "          centers=()\n",
        "          for idx in range(k):\n",
        "              temp_cent = X[points==idx].mean(axis=0). # mean(axis=0) means on line @ \n",
        "              centers.apppend(temp_cent).   # I fount the 1st, 2nd, ...centers and combine them viw appned function.\n",
        "            self.cluster_centers_=np.vstack(center)\n",
        "\n",
        "            distances_=self.finddist(X, self.cluster_centers).  # I fount distances with each centers\n",
        "            self.labels_=np.arraya([np.argmin(i) for i in distances])\n",
        "\n",
        "  def predict(self,X):            # will predict the estimation\n",
        "      centers = self.cluster_centers_\n",
        "      distances = self.finddist(x, self.cluster_centers)\n",
        "      label = np.array([np.argmin(i) for i in distances])\n",
        "      return self.label_\n",
        "\n"
      ],
      "metadata": {
        "id": "hwbStWVzZ_a_"
      },
      "execution_count": null,
      "outputs": []
    },
    {
      "cell_type": "code",
      "source": [
        "Assume X.shape = 200,2, means : I have 200 data points.FloatingPointErrorLEt k = 5\n",
        "FInddist(X,k) --> a list of 200 rowsm and each rows have 5 points distances.\n",
        "\n",
        "for each row I need to pick the minimummdistance for each data points."
      ],
      "metadata": {
        "id": "_01wOXkIjT0u"
      },
      "execution_count": null,
      "outputs": []
    },
    {
      "cell_type": "code",
      "source": [
        "# i is correspoinding to a row i=[2,4,1,6,0]\n",
        "i=[2,4,1,6,0]\n",
        "print(min(i))\n",
        "np.argmin(i)"
      ],
      "metadata": {
        "colab": {
          "base_uri": "https://localhost:8080/"
        },
        "id": "8UaOBFU8kHfk",
        "outputId": "e8f9a995-a159-4e52-af70-7d650448267c"
      },
      "execution_count": 9,
      "outputs": [
        {
          "output_type": "stream",
          "name": "stdout",
          "text": [
            "0\n"
          ]
        },
        {
          "output_type": "execute_result",
          "data": {
            "text/plain": [
              "4"
            ]
          },
          "metadata": {},
          "execution_count": 9
        }
      ]
    },
    {
      "cell_type": "code",
      "source": [
        "for idx in range(k):\n",
        "        temp_cent = X[points ==idx]"
      ],
      "metadata": {
        "id": "bbVu9zV9lEc6"
      },
      "execution_count": null,
      "outputs": []
    },
    {
      "cell_type": "code",
      "source": [
        "k =5\n",
        "\n",
        "idx 0, 1,2,3,4\n",
        "  1. iteration \n",
        "  idx = 0\n",
        "  X(points==idx)"
      ],
      "metadata": {
        "id": "gFjm9W20lTmI"
      },
      "execution_count": null,
      "outputs": []
    },
    {
      "cell_type": "code",
      "source": [
        "X = np.array([3, 5, 2, 4, 3])\n",
        "X[X==3]\n"
      ],
      "metadata": {
        "id": "BZJjWOutlgVe"
      },
      "execution_count": null,
      "outputs": []
    },
    {
      "cell_type": "code",
      "source": [
        "@ \n",
        "X.shape --> number of data poits: N, number of features:p\n",
        "X."
      ],
      "metadata": {
        "id": "YiCL2SgRlyOD"
      },
      "execution_count": null,
      "outputs": []
    },
    {
      "cell_type": "code",
      "source": [
        "kmeans1=Kmeans(k=5, n_iter=1000)\n",
        "kmeans.fit(X)"
      ],
      "metadata": {
        "id": "nskxrqZjeDeA"
      },
      "execution_count": null,
      "outputs": []
    },
    {
      "cell_type": "code",
      "source": [
        "kmeans1.labels_\n",
        "kmeans1.cluster_center_"
      ],
      "metadata": {
        "id": "eQPucLJgnLFR"
      },
      "execution_count": null,
      "outputs": []
    },
    {
      "cell_type": "code",
      "source": [
        "d2=[(c11,c12), (c21, c22), (c31,c32)]\n",
        "d1=[x11,x12]"
      ],
      "metadata": {
        "id": "VzSIxaV-ev2I"
      },
      "execution_count": null,
      "outputs": []
    },
    {
      "cell_type": "code",
      "source": [
        "d2.shape--> k, 2\n",
        "d2.shape[0]--> k\n"
      ],
      "metadata": {
        "id": "W3tEi241Z_dv"
      },
      "execution_count": null,
      "outputs": []
    },
    {
      "cell_type": "code",
      "source": [
        "if you were given d1 and d2 as \n",
        "d1 and d2[0]\n",
        "d1 and d2[1]\n",
        "d1 and d2[2]\n",
        "\n",
        "distance between d1 and d2[0]\n",
        "temp = d1-d2[0] -->[x11-c11, x12-c12]\n",
        "temp*temp --> [x11-c11)*(x11-c11], [x12-c12)*(x12-c12] \n",
        "sum(temp*temp --> [x11-c11)*(x11-c11], [x12-c12)*(x12-c12] \n",
        "sqr(sum(temp*temp=sqr([x11-c11)*(x11-c11], [x12-c12)*(x12-c12]))                                                "
      ],
      "metadata": {
        "id": "5-_KG3x6ff7s"
      },
      "execution_count": null,
      "outputs": []
    },
    {
      "cell_type": "code",
      "source": [
        "import numpy as np\n",
        "np.random.choice(5,4, replace=False)\n"
      ],
      "metadata": {
        "colab": {
          "base_uri": "https://localhost:8080/"
        },
        "id": "zyCgzNRkhqLQ",
        "outputId": "6c9cf1f3-6090-489a-9e12-c63c1f155783"
      },
      "execution_count": 4,
      "outputs": [
        {
          "output_type": "execute_result",
          "data": {
            "text/plain": [
              "array([0, 3, 2, 4])"
            ]
          },
          "metadata": {},
          "execution_count": 4
        }
      ]
    },
    {
      "cell_type": "code",
      "source": [
        "np.arange(5)"
      ],
      "metadata": {
        "colab": {
          "base_uri": "https://localhost:8080/"
        },
        "id": "rCEY7Oi9h3Xk",
        "outputId": "d6e0ce51-4296-4ca6-f395-3d91a8dfb5e3"
      },
      "execution_count": 6,
      "outputs": [
        {
          "output_type": "execute_result",
          "data": {
            "text/plain": [
              "array([0, 1, 2, 3, 4])"
            ]
          },
          "metadata": {},
          "execution_count": 6
        }
      ]
    },
    {
      "cell_type": "code",
      "source": [
        "X= [(1,2),(1,3), (3,2)]\n",
        "np.array((1,2),(1,3), (3,2)])"
      ],
      "metadata": {
        "colab": {
          "base_uri": "https://localhost:8080/",
          "height": 133
        },
        "id": "KYJ4G6BWiM-q",
        "outputId": "9ca6fb6a-bfbc-4aee-88f2-3b5940acb0d5"
      },
      "execution_count": 7,
      "outputs": [
        {
          "output_type": "error",
          "ename": "SyntaxError",
          "evalue": "ignored",
          "traceback": [
            "\u001b[0;36m  File \u001b[0;32m\"<ipython-input-7-cf7f14154493>\"\u001b[0;36m, line \u001b[0;32m1\u001b[0m\n\u001b[0;31m    X=np.array((1,2),(1,3), (3,2)])\u001b[0m\n\u001b[0m                                 ^\u001b[0m\n\u001b[0;31mSyntaxError\u001b[0m\u001b[0;31m:\u001b[0m invalid syntax\n"
          ]
        }
      ]
    },
    {
      "cell_type": "code",
      "source": [
        ""
      ],
      "metadata": {
        "id": "VKcIWQCxh1IM"
      },
      "execution_count": null,
      "outputs": []
    }
  ]
}