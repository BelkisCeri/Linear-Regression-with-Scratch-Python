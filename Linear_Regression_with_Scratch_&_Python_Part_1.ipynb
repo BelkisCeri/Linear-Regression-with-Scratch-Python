{
  "nbformat": 4,
  "nbformat_minor": 0,
  "metadata": {
    "colab": {
      "name": "Linear  Regression with Scratch & Python-Part-1",
      "provenance": [],
      "collapsed_sections": [],
      "authorship_tag": "ABX9TyNVszHUXI2ER7uQD03Lxspg",
      "include_colab_link": true
    },
    "kernelspec": {
      "name": "python3",
      "display_name": "Python 3"
    },
    "language_info": {
      "name": "python"
    }
  },
  "cells": [
    {
      "cell_type": "markdown",
      "metadata": {
        "id": "view-in-github",
        "colab_type": "text"
      },
      "source": [
        "<a href=\"https://colab.research.google.com/github/BelkisCeri/Linear-Regression-with-Scratch-Python/blob/main/Linear_Regression_with_Scratch_%26_Python_Part_1.ipynb\" target=\"_parent\"><img src=\"https://colab.research.google.com/assets/colab-badge.svg\" alt=\"Open In Colab\"/></a>"
      ]
    },
    {
      "cell_type": "markdown",
      "source": [
        "Linear regression with Scratch With Python-1\n",
        "We will evaluate the data sets about house pricing and will predict the overal conditions via linear regression model of ML.\n",
        "The data sets and the idea cited from the \"Linear Regression From Scratch With Python Workshop Series- 1\" sponsored by Magnimind Academy of Science."
      ],
      "metadata": {
        "id": "Xx8ffEubPSkN"
      }
    },
    {
      "cell_type": "code",
      "source": [
        "'Overall Qual': Rates the overall material and finish of the house\n",
        "\n",
        " 10    Very Excellent\n",
        " 9    Excellent\n",
        " 8    Very Good\n",
        " 7    Good\n",
        " 6    Above Average\n",
        " 5    Average\n",
        " 4    Below Average\n",
        " 3    Fair\n",
        " 2    Poor\n",
        " 1    Very Poor\n",
        "'Overall Cond': Rates the overall condition of the house\n",
        "\n",
        " 10    Very Excellent\n",
        " 9    Excellent\n",
        " 8    Very Good\n",
        " 7    Good\n",
        " 6    Above Average    \n",
        " 5    Average\n",
        " 4    Below Average    \n",
        " 3    Fair\n",
        " 2    Poor\n",
        " 1    Very Poor\n",
        "'Gr Liv Area': Above grade (ground) living area square feet\n",
        "\n",
        "'Central Air': Central air conditioning\n",
        "\n",
        " N    No\n",
        " Y    Yes\n",
        "'Total Bsmt SF': Total square feet of basement area\n",
        "\n",
        "'SalePrice': Sale price $$"
      ],
      "metadata": {
        "id": "GdiitlntPQIz"
      },
      "execution_count": null,
      "outputs": []
    },
    {
      "cell_type": "markdown",
      "source": [
        ""
      ],
      "metadata": {
        "id": "PUys2MvqPR2R"
      }
    },
    {
      "cell_type": "code",
      "source": [
        ""
      ],
      "metadata": {
        "id": "tT0dMtvEPP-K"
      },
      "execution_count": null,
      "outputs": []
    },
    {
      "cell_type": "code",
      "execution_count": null,
      "metadata": {
        "id": "I_rLjZInIZcH"
      },
      "outputs": [],
      "source": [
        "import pandas as pd\n",
        "import numpy as np\n",
        "import sklearn\n",
        "# import math\n",
        "# ikmport skilern\n",
        "\n",
        "\n"
      ]
    },
    {
      "cell_type": "code",
      "source": [
        "\n",
        "\n",
        "columns = ['Overall Qual', 'Overall Cond', 'Gr Liv Area',\n",
        "           'Central Air', 'Total Bsmt SF', 'SalePrice']\n",
        "\n",
        "df = pd.read_csv('AmesHousing.txt', \n",
        "                 sep='\\t',\n",
        "                 usecols=columns)"
      ],
      "metadata": {
        "id": "fkncUOn0JiI-"
      },
      "execution_count": null,
      "outputs": []
    },
    {
      "cell_type": "code",
      "source": [
        " "
      ],
      "metadata": {
        "id": "EQv5NSkoI-8X"
      },
      "execution_count": null,
      "outputs": []
    },
    {
      "cell_type": "code",
      "source": [
        ""
      ],
      "metadata": {
        "id": "CNiXwc9WJAte"
      },
      "execution_count": null,
      "outputs": []
    },
    {
      "cell_type": "code",
      "source": [
        "from sklearn.linear_model impirt LinearRegression\n",
        "lr = LinearREgression()\n",
        "lr.fit(X,y)\n",
        "lr.predict(V)\n",
        "lr.score(X,y)--> R2"
      ],
      "metadata": {
        "id": "azk-H3NwJAwO"
      },
      "execution_count": null,
      "outputs": []
    },
    {
      "cell_type": "code",
      "source": [
        "X---> feature set, rows : obsetvations (N number if them), columns: features (p number of them)\n",
        "y--> column vector, SAlePrice--> target variable\n",
        "bias here ---> y-intercept of a linear line\n",
        "\n",
        "yhat --> my prediction\n",
        "\n",
        "house i:\n",
        "yhat_i = w0*1 + w1*x1_i + w2* x2_i+.... wp*xp_i\n",
        "\n",
        "w = [ 1 w2 w3 ... wp]\n",
        "\n",
        "yhat = X*wT\n",
        "\n"
      ],
      "metadata": {
        "id": "GUP0e1olJZVf"
      },
      "execution_count": null,
      "outputs": []
    },
    {
      "cell_type": "code",
      "source": [
        "y---> known prices, ground truth, label\n",
        "yhat --> prediction\n",
        "\n",
        "error = yhat -y\n",
        "\n",
        "SE(yhat-y)*2\n",
        "\n",
        "MSE = (1/N) sum(yhat_i-y)^2\n",
        "MSE = (1/N) sum(x_i*wT-y)^2"
      ],
      "metadata": {
        "id": "9FtedaGPKwZ0"
      },
      "execution_count": null,
      "outputs": []
    },
    {
      "cell_type": "code",
      "source": [
        "take the derivative of MSE wrt w--> gradient"
      ],
      "metadata": {
        "id": "SKVBw0jwLQlD"
      },
      "execution_count": null,
      "outputs": []
    },
    {
      "cell_type": "code",
      "source": [
        "IF the gredient is negative, we are onn the left hand side of the minimum of MSE, then, increase your w.\n",
        "IF the gredient is positive, we are onn the right hand side of the minimum of MSE, then, decrease your w. "
      ],
      "metadata": {
        "id": "FHCsoC2HL6Tm"
      },
      "execution_count": null,
      "outputs": []
    },
    {
      "cell_type": "code",
      "source": [
        "gradients = (2/N)(xw-y)*x-->(2/N)*(yhat-y)*x-->(2/N)error*x"
      ],
      "metadata": {
        "id": "vpYmrC0WMPd6"
      },
      "execution_count": null,
      "outputs": []
    },
    {
      "cell_type": "code",
      "source": [
        "w-eta*gradient"
      ],
      "metadata": {
        "id": "hEVaU6tRMPmg"
      },
      "execution_count": null,
      "outputs": []
    },
    {
      "cell_type": "code",
      "source": [
        "fit.predict, score"
      ],
      "metadata": {
        "id": "9Gs7kLNxKT39"
      },
      "execution_count": null,
      "outputs": []
    },
    {
      "cell_type": "code",
      "source": [
        "STUDENT \n",
        "take exam\n",
        "register course\n",
        "..\n",
        "std1= STUDENT().  # std1 is an instance"
      ],
      "metadata": {
        "id": "B4jvGlxPMwYB"
      },
      "execution_count": null,
      "outputs": []
    },
    {
      "cell_type": "code",
      "source": [
        "lr1 = LinearRegressionSD()\n",
        "lr1 = LinearRegressionSD()"
      ],
      "metadata": {
        "id": "7HAOdBTPOVpQ"
      },
      "execution_count": null,
      "outputs": []
    },
    {
      "cell_type": "code",
      "source": [
        "LinearRegression.fit(X,y)"
      ],
      "metadata": {
        "id": "GkiRWvSgOj-n"
      },
      "execution_count": null,
      "outputs": []
    },
    {
      "cell_type": "code",
      "source": [
        "class LinearRegressinSD:\n",
        "  def __init__(self, eta = 0.01, n_iter = 50, random_state =1)  # eta is the step size (how fast you get the w) \n",
        "    self.eta = eta\n",
        "    self.n_iter = n_iter\n",
        "    self.random_state = random_state\n",
        "\n",
        "  def fit (self, X, y):\n",
        "    rgen-np.random.RAndomState(self.random_state)\n",
        "    self.w=rgen.normal(loc= 0.0, scale=0.01, size=X.shape[1])\n",
        "    self.w0 = np/array([0.])\n",
        "    for i in range(self.n_iter):\n",
        "      yhat = np.dot(X, self.w)+self.w0\n",
        "      errors = (yhat-y)\n",
        "      gradients = 2*X.T.dot(errors)/(X.shape[0])\n",
        "      bias_gradients = 2*errors.mean()\n",
        "      self.w_ = self.w_ - self.eta*gradients\n",
        "      self.w0_ = self.w0_ - self.eta*bias_gredients\n",
        "      loss = error**2.mean()\n",
        "      self.losses_.append(loss)\n",
        "      return self\n",
        "\n",
        "  def predict (self, X):\n",
        "    yhat =np.dot(X, self.w_)+self.w0\n",
        "    return yhat\n",
        "\n",
        "  def score(self, X, y): # For score I will be using r squared (R2) look at the below to expalanion\n",
        "    yhat = self.predict(X)\n",
        "    ybar = y.mean()\n",
        "    errors = y - yhat # errors are also callled residuals\n",
        "    ss-res = (errors**2).sum().   #residual is another term of error\n",
        "    ss_tot = ((y-ybar)**2).sum()\n",
        "    R_squared = 1- ss_res/ss_tot\n",
        "    MSE = ss_res/len(y)\n",
        "    RMSE = MSE**(1/2)\n",
        "    return RMSE, R_squared\n",
        "   "
      ],
      "metadata": {
        "colab": {
          "base_uri": "https://localhost:8080/",
          "height": 133
        },
        "id": "pkOA5xTRMwoL",
        "outputId": "4d7364d7-4468-472a-f289-0b415f6c526f"
      },
      "execution_count": null,
      "outputs": [
        {
          "output_type": "error",
          "ename": "SyntaxError",
          "evalue": "ignored",
          "traceback": [
            "\u001b[0;36m  File \u001b[0;32m\"<ipython-input-5-15e6a059f4c8>\"\u001b[0;36m, line \u001b[0;32m2\u001b[0m\n\u001b[0;31m    def __init__(self, eta = 0.01, n_iter = 50, random_state =1)  # eta is the step size (how fast you get the w)\u001b[0m\n\u001b[0m                                                                                                                  ^\u001b[0m\n\u001b[0;31mSyntaxError\u001b[0m\u001b[0;31m:\u001b[0m invalid syntax\n"
          ]
        }
      ]
    },
    {
      "cell_type": "code",
      "source": [
        "X = df[['Gr Liv Area']].values\n",
        "y = df['SAlePrice'].values"
      ],
      "metadata": {
        "id": "wTKAS8-RWl6Q"
      },
      "execution_count": null,
      "outputs": []
    },
    {
      "cell_type": "code",
      "source": [
        "from sklearn.preprocessing import standardScaler\n",
        "sx = StandardScaler()  \n",
        "sy = StandardScaler()  \n",
        "X_st = sx.fit_transform(X) \n",
        "y_st = sy.fit_transform(y[:,np.newaxis]).flatter() "
      ],
      "metadata": {
        "colab": {
          "base_uri": "https://localhost:8080/",
          "height": 400
        },
        "id": "tzuXNevxWuoz",
        "outputId": "19e8137a-d69c-4f78-8487-79a44022b66c"
      },
      "execution_count": null,
      "outputs": [
        {
          "output_type": "error",
          "ename": "ImportError",
          "evalue": "ignored",
          "traceback": [
            "\u001b[0;31m---------------------------------------------------------------------------\u001b[0m",
            "\u001b[0;31mImportError\u001b[0m                               Traceback (most recent call last)",
            "\u001b[0;32m<ipython-input-6-b75dfc0aafdb>\u001b[0m in \u001b[0;36m<module>\u001b[0;34m()\u001b[0m\n\u001b[0;32m----> 1\u001b[0;31m \u001b[0;32mfrom\u001b[0m \u001b[0msklearn\u001b[0m\u001b[0;34m.\u001b[0m\u001b[0mpreprocessing\u001b[0m \u001b[0;32mimport\u001b[0m \u001b[0mstandardScaler\u001b[0m\u001b[0;34m\u001b[0m\u001b[0;34m\u001b[0m\u001b[0m\n\u001b[0m\u001b[1;32m      2\u001b[0m \u001b[0msx\u001b[0m \u001b[0;34m=\u001b[0m \u001b[0mStandardScaler\u001b[0m\u001b[0;34m(\u001b[0m\u001b[0;34m)\u001b[0m\u001b[0;34m\u001b[0m\u001b[0;34m\u001b[0m\u001b[0m\n\u001b[1;32m      3\u001b[0m \u001b[0msy\u001b[0m \u001b[0;34m=\u001b[0m \u001b[0mStandardScaler\u001b[0m\u001b[0;34m(\u001b[0m\u001b[0;34m)\u001b[0m\u001b[0;34m\u001b[0m\u001b[0;34m\u001b[0m\u001b[0m\n\u001b[1;32m      4\u001b[0m \u001b[0mX_st\u001b[0m \u001b[0;34m=\u001b[0m \u001b[0msx\u001b[0m\u001b[0;34m.\u001b[0m\u001b[0mfit_transform\u001b[0m\u001b[0;34m(\u001b[0m\u001b[0mX\u001b[0m\u001b[0;34m)\u001b[0m\u001b[0;34m\u001b[0m\u001b[0;34m\u001b[0m\u001b[0m\n\u001b[1;32m      5\u001b[0m \u001b[0my_st\u001b[0m \u001b[0;34m=\u001b[0m \u001b[0msy\u001b[0m\u001b[0;34m.\u001b[0m\u001b[0mfit_transform\u001b[0m\u001b[0;34m(\u001b[0m\u001b[0my\u001b[0m\u001b[0;34m[\u001b[0m\u001b[0;34m:\u001b[0m\u001b[0;34m,\u001b[0m\u001b[0mnp\u001b[0m\u001b[0;34m.\u001b[0m\u001b[0mnewaxis\u001b[0m\u001b[0;34m]\u001b[0m\u001b[0;34m)\u001b[0m\u001b[0;34m.\u001b[0m\u001b[0mflatter\u001b[0m\u001b[0;34m(\u001b[0m\u001b[0;34m)\u001b[0m\u001b[0;34m\u001b[0m\u001b[0;34m\u001b[0m\u001b[0m\n",
            "\u001b[0;31mImportError\u001b[0m: cannot import name 'standardScaler' from 'sklearn.preprocessing' (/usr/local/lib/python3.7/dist-packages/sklearn/preprocessing/__init__.py)",
            "",
            "\u001b[0;31m---------------------------------------------------------------------------\u001b[0;32m\nNOTE: If your import is failing due to a missing package, you can\nmanually install dependencies using either !pip or !apt.\n\nTo view examples of installing some common dependencies, click the\n\"Open Examples\" button below.\n\u001b[0;31m---------------------------------------------------------------------------\u001b[0m\n"
          ],
          "errorDetails": {
            "actions": [
              {
                "action": "open_url",
                "actionText": "Open Examples",
                "url": "/notebooks/snippets/importing_libraries.ipynb"
              }
            ]
          }
        }
      ]
    },
    {
      "cell_type": "code",
      "source": [
        "from sklearn.linear_model import LinearRegression\n",
        "lrs = LinearRegress ()\n"
      ],
      "metadata": {
        "id": "XxwJVLVJX5ls"
      },
      "execution_count": null,
      "outputs": []
    },
    {
      "cell_type": "code",
      "source": [
        "lr.w_, lr"
      ],
      "metadata": {
        "id": "w-FGKzGAYM_H"
      },
      "execution_count": null,
      "outputs": []
    },
    {
      "cell_type": "code",
      "source": [
        "X[1:10], y[1,10]"
      ],
      "metadata": {
        "id": "n2TZK_i4WCCS"
      },
      "execution_count": null,
      "outputs": []
    },
    {
      "cell_type": "code",
      "source": [
        ""
      ],
      "metadata": {
        "id": "tCAldf1LVlyh"
      },
      "execution_count": null,
      "outputs": []
    },
    {
      "cell_type": "code",
      "source": [
        "X.T*w --> X*wT"
      ],
      "metadata": {
        "id": "4LScxRxXRzJ8"
      },
      "execution_count": null,
      "outputs": []
    },
    {
      "cell_type": "code",
      "source": [
        "X.shape --> (number of rows, number of columns), SEbastian Rochka"
      ],
      "metadata": {
        "id": "bc6wHn2-RqG4"
      },
      "execution_count": null,
      "outputs": []
    },
    {
      "cell_type": "code",
      "source": [
        "yhat  = w0 + w1x1+w2*x2+...\n",
        "derivative of yhat wrt w\n",
        "DEl (yhat, w) --> 1 x1 x2"
      ],
      "metadata": {
        "id": "fvjk3XKYRaNE"
      },
      "execution_count": null,
      "outputs": []
    },
    {
      "cell_type": "code",
      "source": [
        "For score I will be using r squared (R2)\n",
        "R2 = 1-sum(errors)/sum((y-ybar)^2)        We know the errors = y-yhat)^2)\n",
        "R2 = 1-sum(y-yhat)^2)/sum((y-ybar)^2).    \n",
        "ybar = averageof labels"
      ],
      "metadata": {
        "id": "G0-XDQuATrH2"
      },
      "execution_count": null,
      "outputs": []
    }
  ]
}